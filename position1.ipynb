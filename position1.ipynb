#Open In Colab
#라이브러리 임포트

#실습에 필요한 라이브러리를 임포트합니다.

import pandas as pd
# 데이터를 수집합니다
df = pd.read_csv("https://raw.githubusercontent.com/wikibook/machine-learning/2.0/data/csv/basketball_stat.csv")

# 수집된 데이터 샘플을 확인합니다
df.head()
